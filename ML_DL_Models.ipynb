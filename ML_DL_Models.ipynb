{
  "nbformat": 4,
  "nbformat_minor": 0,
  "metadata": {
    "kernelspec": {
      "display_name": "Python 3",
      "language": "python",
      "name": "python3"
    },
    "language_info": {
      "codemirror_mode": {
        "name": "ipython",
        "version": 3
      },
      "file_extension": ".py",
      "mimetype": "text/x-python",
      "name": "python",
      "nbconvert_exporter": "python",
      "pygments_lexer": "ipython3",
      "version": "3.8.0"
    },
    "colab": {
      "name": "ML-DL-Models.ipynb",
      "provenance": []
    }
  },
  "cells": [
    {
      "cell_type": "code",
      "metadata": {
        "id": "ca_HPT1dwtaQ"
      },
      "source": [
        "#imports\n",
        "import pandas as pd \n",
        "import numpy as np\n",
        "import matplotlib.pyplot as plt\n",
        "from wordcloud import WordCloud\n",
        "import itertools\n",
        "import re\n",
        "from nltk.corpus import stopwords\n",
        "from nltk.stem import WordNetLemmatizer\n",
        "import nltk\n",
        "from nltk.tokenize import word_tokenize\n",
        "from sklearn.metrics import classification_report, confusion_matrix\n",
        "import seaborn as sns"
      ],
      "execution_count": null,
      "outputs": []
    },
    {
      "cell_type": "code",
      "metadata": {
        "id": "nafUXYu0wtaU",
        "outputId": "1a005afc-5594-4b27-a499-1a9fd8d0ae65"
      },
      "source": [
        "data = pd.read_csv(r'export_dataframe.csv')\n",
        "data.head()"
      ],
      "execution_count": null,
      "outputs": [
        {
          "output_type": "execute_result",
          "data": {
            "text/html": [
              "<div>\n",
              "<style scoped>\n",
              "    .dataframe tbody tr th:only-of-type {\n",
              "        vertical-align: middle;\n",
              "    }\n",
              "\n",
              "    .dataframe tbody tr th {\n",
              "        vertical-align: top;\n",
              "    }\n",
              "\n",
              "    .dataframe thead th {\n",
              "        text-align: right;\n",
              "    }\n",
              "</style>\n",
              "<table border=\"1\" class=\"dataframe\">\n",
              "  <thead>\n",
              "    <tr style=\"text-align: right;\">\n",
              "      <th></th>\n",
              "      <th>text</th>\n",
              "      <th>classe</th>\n",
              "    </tr>\n",
              "  </thead>\n",
              "  <tbody>\n",
              "    <tr>\n",
              "      <th>0</th>\n",
              "      <td>['washington', 'reuters', 'head', 'conservativ...</td>\n",
              "      <td>1</td>\n",
              "    </tr>\n",
              "    <tr>\n",
              "      <th>1</th>\n",
              "      <td>['washington', 'reuters', 'transgender', 'peop...</td>\n",
              "      <td>1</td>\n",
              "    </tr>\n",
              "    <tr>\n",
              "      <th>2</th>\n",
              "      <td>['washington', 'reuters', 'special', 'counsel'...</td>\n",
              "      <td>1</td>\n",
              "    </tr>\n",
              "    <tr>\n",
              "      <th>3</th>\n",
              "      <td>['washington', 'reuters', 'trump', 'campaign',...</td>\n",
              "      <td>1</td>\n",
              "    </tr>\n",
              "    <tr>\n",
              "      <th>4</th>\n",
              "      <td>['seattle', 'washington', 'reuters', 'presiden...</td>\n",
              "      <td>1</td>\n",
              "    </tr>\n",
              "  </tbody>\n",
              "</table>\n",
              "</div>"
            ],
            "text/plain": [
              "                                                text  classe\n",
              "0  ['washington', 'reuters', 'head', 'conservativ...       1\n",
              "1  ['washington', 'reuters', 'transgender', 'peop...       1\n",
              "2  ['washington', 'reuters', 'special', 'counsel'...       1\n",
              "3  ['washington', 'reuters', 'trump', 'campaign',...       1\n",
              "4  ['seattle', 'washington', 'reuters', 'presiden...       1"
            ]
          },
          "metadata": {
            "tags": []
          },
          "execution_count": 2
        }
      ]
    },
    {
      "cell_type": "code",
      "metadata": {
        "id": "8732UE3zwtaW"
      },
      "source": [
        "import re\n",
        "def join_text(text):\n",
        "    text = text.split()\n",
        "    l_text = [re.sub(r'\\W', '', i) for i in text]\n",
        "    return ' '.join(l_text)"
      ],
      "execution_count": null,
      "outputs": []
    },
    {
      "cell_type": "code",
      "metadata": {
        "id": "hoMhVk7uwtaW"
      },
      "source": [
        "l = []\n",
        "for i in range(len(data['text'])):\n",
        "    l.append(join_text(data['text'][i]))\n"
      ],
      "execution_count": null,
      "outputs": []
    },
    {
      "cell_type": "code",
      "metadata": {
        "id": "uCQwDf6xwtaX",
        "outputId": "2e2cd212-8eb0-460f-e77c-9f91a1f8b797"
      },
      "source": [
        "from sklearn.feature_extraction.text import CountVectorizer\n",
        "vectorizer = CountVectorizer(max_features=2000)\n",
        "X = vectorizer.fit_transform(l).toarray()\n",
        "len(X)"
      ],
      "execution_count": null,
      "outputs": [
        {
          "output_type": "execute_result",
          "data": {
            "text/plain": [
              "38647"
            ]
          },
          "metadata": {
            "tags": []
          },
          "execution_count": 5
        }
      ]
    },
    {
      "cell_type": "code",
      "metadata": {
        "id": "u-8mDze4wtaX"
      },
      "source": [
        "from sklearn.feature_extraction.text import TfidfTransformer\n",
        "tfidfconverter = TfidfTransformer()\n",
        "X = tfidfconverter.fit_transform(X).toarray()"
      ],
      "execution_count": null,
      "outputs": []
    },
    {
      "cell_type": "code",
      "metadata": {
        "id": "dMlDFOM3wtaY"
      },
      "source": [
        "from sklearn.model_selection import train_test_split\n",
        "X_train, X_test, y_train, y_test = train_test_split(X, data['classe'].values, test_size=0.2, random_state=80)"
      ],
      "execution_count": null,
      "outputs": []
    },
    {
      "cell_type": "code",
      "metadata": {
        "id": "fw4p_2PYwtaY",
        "outputId": "00d2c662-a884-4f52-c8ae-0e4e195890a2"
      },
      "source": [
        "from sklearn.ensemble import RandomForestClassifier\n",
        "classifier = RandomForestClassifier(n_estimators=1000, random_state=0)\n",
        "classifier.fit(X_train, y_train) "
      ],
      "execution_count": null,
      "outputs": [
        {
          "output_type": "execute_result",
          "data": {
            "text/plain": [
              "RandomForestClassifier(bootstrap=True, ccp_alpha=0.0, class_weight=None,\n",
              "                       criterion='gini', max_depth=None, max_features='auto',\n",
              "                       max_leaf_nodes=None, max_samples=None,\n",
              "                       min_impurity_decrease=0.0, min_impurity_split=None,\n",
              "                       min_samples_leaf=1, min_samples_split=2,\n",
              "                       min_weight_fraction_leaf=0.0, n_estimators=1000,\n",
              "                       n_jobs=None, oob_score=False, random_state=0, verbose=0,\n",
              "                       warm_start=False)"
            ]
          },
          "metadata": {
            "tags": []
          },
          "execution_count": 8
        }
      ]
    },
    {
      "cell_type": "code",
      "metadata": {
        "id": "2PzGvgNSwtaZ",
        "outputId": "54629a37-6749-4bb4-b39d-51508229c06f"
      },
      "source": [
        "classifier.score(X_test, y_test)"
      ],
      "execution_count": null,
      "outputs": [
        {
          "output_type": "execute_result",
          "data": {
            "text/plain": [
              "0.9968952134540751"
            ]
          },
          "metadata": {
            "tags": []
          },
          "execution_count": 9
        }
      ]
    },
    {
      "cell_type": "code",
      "metadata": {
        "id": "Mr151ebpwtaZ",
        "outputId": "6f7040a7-3083-4521-945d-8990772e0d43"
      },
      "source": [
        "prediction = classifier.predict(X_test)\n",
        "print(prediction)\n",
        "print(y_test)"
      ],
      "execution_count": null,
      "outputs": [
        {
          "output_type": "stream",
          "text": [
            "[1 1 1 ... 0 0 1]\n",
            "[1 1 1 ... 0 0 1]\n"
          ],
          "name": "stdout"
        }
      ]
    },
    {
      "cell_type": "code",
      "metadata": {
        "id": "pIaUKAo2wtaa"
      },
      "source": [
        "# Source code credit for this function: https://gist.github.com/shaypal5/94c53d765083101efc0240d776a23823\n",
        "def print_confusion_matrix(confusion_matrix, class_names, figsize = (10,7), fontsize=14):\n",
        "    \"\"\"Prints a confusion matrix, as returned by sklearn.metrics.confusion_matrix, as a heatmap.\n",
        "    \n",
        "    Arguments\n",
        "    ---------\n",
        "    confusion_matrix: numpy.ndarray\n",
        "        The numpy.ndarray object returned from a call to sklearn.metrics.confusion_matrix. \n",
        "        Similarly constructed ndarrays can also be used.\n",
        "    class_names: list\n",
        "        An ordered list of class names, in the order they index the given confusion matrix.\n",
        "    figsize: tuple\n",
        "        A 2-long tuple, the first value determining the horizontal size of the ouputted figure,\n",
        "        the second determining the vertical size. Defaults to (10,7).\n",
        "    fontsize: int\n",
        "        Font size for axes labels. Defaults to 14.\n",
        "        \n",
        "    Returns\n",
        "    -------\n",
        "    matplotlib.figure.Figure\n",
        "        The resulting confusion matrix figure\n",
        "    \"\"\"\n",
        "    df_cm = pd.DataFrame(\n",
        "        confusion_matrix, index=class_names, columns=class_names, \n",
        "    )\n",
        "    fig = plt.figure(figsize=figsize)\n",
        "    try:\n",
        "        heatmap = sns.heatmap(df_cm, annot=True, fmt=\"d\")\n",
        "    except ValueError:\n",
        "        raise ValueError(\"Confusion matrix values must be integers.\")\n",
        "    heatmap.yaxis.set_ticklabels(heatmap.yaxis.get_ticklabels(), rotation=0, ha='right', fontsize=fontsize)\n",
        "    heatmap.xaxis.set_ticklabels(heatmap.xaxis.get_ticklabels(), rotation=45, ha='right', fontsize=fontsize)\n",
        "    plt.ylabel('Truth')\n",
        "    plt.xlabel('Prediction')"
      ],
      "execution_count": null,
      "outputs": []
    },
    {
      "cell_type": "code",
      "metadata": {
        "id": "g_MZnpZwwtab",
        "outputId": "69924bcb-3c06-4da4-9a58-bb2363c0da2c"
      },
      "source": [
        "cm1 = confusion_matrix(y_test, prediction)\n",
        "print_confusion_matrix(cm1 ,[\"Fake\", \"Real\"])"
      ],
      "execution_count": null,
      "outputs": [
        {
          "output_type": "display_data",
          "data": {
            "image/png": "[encoded data removed]",
            "text/plain": [
              "<Figure size 720x504 with 2 Axes>"
            ]
          },
          "metadata": {
            "tags": [],
            "needs_background": "light"
          }
        }
      ]
    },
    {
      "cell_type": "code",
      "metadata": {
        "id": "ZSB-vKEGwtab",
        "outputId": "51650545-cb8e-404e-cf3b-478621434824"
      },
      "source": [
        "report_test1 = classification_report(y_test, prediction)\n",
        "print(report_test1)"
      ],
      "execution_count": null,
      "outputs": [
        {
          "output_type": "stream",
          "text": [
            "              precision    recall  f1-score   support\n",
            "\n",
            "           0       1.00      1.00      1.00      3523\n",
            "           1       1.00      1.00      1.00      4207\n",
            "\n",
            "    accuracy                           1.00      7730\n",
            "   macro avg       1.00      1.00      1.00      7730\n",
            "weighted avg       1.00      1.00      1.00      7730\n",
            "\n"
          ],
          "name": "stdout"
        }
      ]
    },
    {
      "cell_type": "code",
      "metadata": {
        "id": "VHIlRiwtwtac",
        "outputId": "52c75abb-a3af-4f6c-d54a-79abb66389f9"
      },
      "source": [
        "from sklearn.ensemble import GradientBoostingClassifier\n",
        "\n",
        "clf = GradientBoostingClassifier(n_estimators=100, learning_rate=1.0, max_depth=1, random_state=0).fit(X_train, y_train)\n",
        "clf.score(X_test, y_test)"
      ],
      "execution_count": null,
      "outputs": [
        {
          "output_type": "execute_result",
          "data": {
            "text/plain": [
              "0.9930142302716688"
            ]
          },
          "metadata": {
            "tags": []
          },
          "execution_count": 15
        }
      ]
    },
    {
      "cell_type": "code",
      "metadata": {
        "id": "WVrOS_i_wtac",
        "outputId": "2cf8d919-0032-406e-d66e-e3eaaa58f416"
      },
      "source": [
        "prediction2 = clf.predict(X_test)\n",
        "cm2 = confusion_matrix(y_test, prediction2)\n",
        "print_confusion_matrix(cm2 ,[\"Fake\", \"Real\"])"
      ],
      "execution_count": null,
      "outputs": [
        {
          "output_type": "display_data",
          "data": {
            "image/png": "[encoded data removed]",
            "text/plain": [
              "<Figure size 720x504 with 2 Axes>"
            ]
          },
          "metadata": {
            "tags": [],
            "needs_background": "light"
          }
        }
      ]
    },
    {
      "cell_type": "code",
      "metadata": {
        "id": "DcIQv1Vewtad",
        "outputId": "8fefe47b-1824-4875-968f-69274ed4931e"
      },
      "source": [
        "report_test2 = classification_report(y_test, prediction2)\n",
        "print(report_test2)"
      ],
      "execution_count": null,
      "outputs": [
        {
          "output_type": "stream",
          "text": [
            "              precision    recall  f1-score   support\n",
            "\n",
            "           0       1.00      0.99      0.99      3523\n",
            "           1       0.99      1.00      0.99      4207\n",
            "\n",
            "    accuracy                           0.99      7730\n",
            "   macro avg       0.99      0.99      0.99      7730\n",
            "weighted avg       0.99      0.99      0.99      7730\n",
            "\n"
          ],
          "name": "stdout"
        }
      ]
    },
    {
      "cell_type": "code",
      "metadata": {
        "id": "67cZuRFAwtad",
        "outputId": "dbcb8334-bad0-4645-b261-7a47cae93585"
      },
      "source": [
        "from keras import layers\n",
        "from keras import models\n",
        "model=models.Sequential()"
      ],
      "execution_count": null,
      "outputs": [
        {
          "output_type": "stream",
          "text": [
            "Using TensorFlow backend.\n"
          ],
          "name": "stderr"
        }
      ]
    },
    {
      "cell_type": "code",
      "metadata": {
        "id": "RUuUK1qUwtad",
        "outputId": "b981adcc-b3fd-48d5-e231-88c1d4089be2"
      },
      "source": [
        "model.add(layers.Dense(80, input_dim = X_train.shape[1], activation = 'relu'))\n",
        "model.add(layers.Dense(80, activation = 'relu'))\n",
        "\n",
        "model.add(layers.Dense(1, activation = 'sigmoid'))\n",
        "model.summary()"
      ],
      "execution_count": null,
      "outputs": [
        {
          "output_type": "stream",
          "text": [
            "Model: \"sequential_1\"\n",
            "_________________________________________________________________\n",
            "Layer (type)                 Output Shape              Param #   \n",
            "=================================================================\n",
            "dense_1 (Dense)              (None, 80)                160080    \n",
            "_________________________________________________________________\n",
            "dense_2 (Dense)              (None, 80)                6480      \n",
            "_________________________________________________________________\n",
            "dense_3 (Dense)              (None, 1)                 81        \n",
            "=================================================================\n",
            "Total params: 166,641\n",
            "Trainable params: 166,641\n",
            "Non-trainable params: 0\n",
            "_________________________________________________________________\n"
          ],
          "name": "stdout"
        }
      ]
    },
    {
      "cell_type": "code",
      "metadata": {
        "id": "KcPjhh2Swtae"
      },
      "source": [
        "model.compile(loss = 'binary_crossentropy', optimizer = 'adam', metrics=['accuracy'])"
      ],
      "execution_count": null,
      "outputs": []
    },
    {
      "cell_type": "code",
      "metadata": {
        "id": "jfNVJrWywtae",
        "outputId": "ba018af9-971a-47ef-cd8e-216087d20651"
      },
      "source": [
        "history = model.fit(X_train[:25000], y_train[:25000], validation_data=(X_train[25000:], y_train[25000:]), epochs = 15)"
      ],
      "execution_count": null,
      "outputs": [
        {
          "output_type": "stream",
          "text": [
            "Train on 25000 samples, validate on 5917 samples\n",
            "Epoch 1/15\n",
            "25000/25000 [==============================] - 2s 91us/step - loss: 0.0959 - accuracy: 0.9630 - val_loss: 0.0488 - val_accuracy: 0.9843\n",
            "Epoch 2/15\n",
            "25000/25000 [==============================] - 2s 86us/step - loss: 0.0242 - accuracy: 0.9924 - val_loss: 0.0550 - val_accuracy: 0.9845\n",
            "Epoch 3/15\n",
            "25000/25000 [==============================] - 2s 93us/step - loss: 0.0167 - accuracy: 0.9946 - val_loss: 0.0514 - val_accuracy: 0.9841\n",
            "Epoch 4/15\n",
            "25000/25000 [==============================] - 2s 96us/step - loss: 0.0093 - accuracy: 0.9974 - val_loss: 0.0546 - val_accuracy: 0.9858\n",
            "Epoch 5/15\n",
            "25000/25000 [==============================] - 2s 92us/step - loss: 0.0060 - accuracy: 0.9978 - val_loss: 0.0607 - val_accuracy: 0.9858\n",
            "Epoch 6/15\n",
            "25000/25000 [==============================] - 2s 85us/step - loss: 0.0071 - accuracy: 0.9972 - val_loss: 0.0642 - val_accuracy: 0.9866\n",
            "Epoch 7/15\n",
            "25000/25000 [==============================] - 2s 79us/step - loss: 0.0040 - accuracy: 0.9987 - val_loss: 0.0632 - val_accuracy: 0.9865\n",
            "Epoch 8/15\n",
            "25000/25000 [==============================] - 2s 79us/step - loss: 0.0016 - accuracy: 0.9994 - val_loss: 0.0714 - val_accuracy: 0.9865\n",
            "Epoch 9/15\n",
            "25000/25000 [==============================] - 2s 89us/step - loss: 8.0078e-04 - accuracy: 0.9998 - val_loss: 0.0776 - val_accuracy: 0.9858\n",
            "Epoch 10/15\n",
            "25000/25000 [==============================] - 2s 84us/step - loss: 4.1348e-04 - accuracy: 1.0000 - val_loss: 0.0796 - val_accuracy: 0.9870\n",
            "Epoch 11/15\n",
            "25000/25000 [==============================] - 2s 80us/step - loss: 3.0132e-04 - accuracy: 1.0000 - val_loss: 0.0839 - val_accuracy: 0.9865\n",
            "Epoch 12/15\n",
            "25000/25000 [==============================] - 2s 86us/step - loss: 2.7414e-04 - accuracy: 1.0000 - val_loss: 0.0862 - val_accuracy: 0.9866\n",
            "Epoch 13/15\n",
            "25000/25000 [==============================] - 2s 78us/step - loss: 2.4356e-04 - accuracy: 1.0000 - val_loss: 0.0891 - val_accuracy: 0.9858\n",
            "Epoch 14/15\n",
            "25000/25000 [==============================] - 2s 75us/step - loss: 2.1487e-04 - accuracy: 1.0000 - val_loss: 0.0991 - val_accuracy: 0.9861\n",
            "Epoch 15/15\n",
            "25000/25000 [==============================] - 2s 75us/step - loss: 2.0550e-04 - accuracy: 1.0000 - val_loss: 0.1029 - val_accuracy: 0.9860\n"
          ],
          "name": "stdout"
        }
      ]
    },
    {
      "cell_type": "code",
      "metadata": {
        "id": "Arcioblewtaf",
        "outputId": "61672bcc-b4db-4b03-e080-2d93dd6d4cb0"
      },
      "source": [
        "import matplotlib.pyplot as plt\n",
        "# summarize history for accuracy\n",
        "plt.plot(history.history['accuracy'])\n",
        "plt.plot(history.history['val_accuracy'])\n",
        "plt.title('model accuracy')\n",
        "plt.ylabel('accuracy')\n",
        "plt.xlabel('epoch')\n",
        "plt.legend(['train', 'test'], loc='upper left')\n",
        "plt.show()\n",
        "# summarize history for loss\n",
        "plt.plot(history.history['loss'])\n",
        "plt.plot(history.history['val_loss'])\n",
        "plt.title('model loss')\n",
        "plt.ylabel('loss')\n",
        "plt.xlabel('epoch')\n",
        "plt.legend(['train', 'test'], loc='upper left')\n",
        "plt.show()"
      ],
      "execution_count": null,
      "outputs": [
        {
          "output_type": "display_data",
          "data": {
            "image/png": "[encoded data removed]",
            "text/plain": [
              "<Figure size 432x288 with 1 Axes>"
            ]
          },
          "metadata": {
            "tags": [],
            "needs_background": "light"
          }
        },
        {
          "output_type": "display_data",
          "data": {
            "image/png": "[encoded data removed]",
            "text/plain": [
              "<Figure size 432x288 with 1 Axes>"
            ]
          },
          "metadata": {
            "tags": [],
            "needs_background": "light"
          }
        }
      ]
    },
    {
      "cell_type": "code",
      "metadata": {
        "id": "vF3SxHVOwtaf",
        "outputId": "3684385c-aed3-425f-ab0e-b5496461f749"
      },
      "source": [
        "score = model.evaluate(X_test, y_test)\n",
        "print('Test accuarcy: %0.2f%%' % (score[1] * 100))"
      ],
      "execution_count": null,
      "outputs": [
        {
          "output_type": "stream",
          "text": [
            "7730/7730 [==============================] - 0s 33us/step\n",
            "Test accuarcy: 98.77%\n"
          ],
          "name": "stdout"
        }
      ]
    },
    {
      "cell_type": "code",
      "metadata": {
        "id": "ANUfquWiwtag",
        "outputId": "f59bd6d8-bfe6-44ed-8560-a6e5b914a8a4"
      },
      "source": [
        "prediction3 = model.predict(X_test)\n",
        "for i in range (prediction3.shape[0]) : \n",
        "    prediction3[i] = int(prediction3[i])\n",
        "\n",
        "print(prediction3)"
      ],
      "execution_count": null,
      "outputs": [
        {
          "output_type": "stream",
          "text": [
            "[[1.]\n",
            " [1.]\n",
            " [1.]\n",
            " ...\n",
            " [0.]\n",
            " [0.]\n",
            " [1.]]\n"
          ],
          "name": "stdout"
        }
      ]
    },
    {
      "cell_type": "code",
      "metadata": {
        "id": "FzTUNafVwtah",
        "outputId": "9e80ed33-2d82-4a49-9cd4-5e625152d9de"
      },
      "source": [
        "cm3 = confusion_matrix(y_test, prediction3)\n",
        "print_confusion_matrix(cm3 ,[\"Fake\", \"Real\"])"
      ],
      "execution_count": null,
      "outputs": [
        {
          "output_type": "display_data",
          "data": {
            "image/png": "[encoded data removed]",
            "text/plain": [
              "<Figure size 720x504 with 2 Axes>"
            ]
          },
          "metadata": {
            "tags": [],
            "needs_background": "light"
          }
        }
      ]
    },
    {
      "cell_type": "code",
      "metadata": {
        "id": "6nYUvA1Dwtah",
        "outputId": "e2d0a2bd-3bea-4af7-fdb7-cda2400eb5b8"
      },
      "source": [
        "report_test3 = classification_report(y_test, prediction3)\n",
        "print(report_test3)"
      ],
      "execution_count": null,
      "outputs": [
        {
          "output_type": "stream",
          "text": [
            "              precision    recall  f1-score   support\n",
            "\n",
            "           0       0.89      1.00      0.94      3523\n",
            "           1       1.00      0.90      0.95      4207\n",
            "\n",
            "    accuracy                           0.95      7730\n",
            "   macro avg       0.95      0.95      0.94      7730\n",
            "weighted avg       0.95      0.95      0.95      7730\n",
            "\n"
          ],
          "name": "stdout"
        }
      ]
    }
  ]
}